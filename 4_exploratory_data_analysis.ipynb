{
 "cells": [
  {
   "attachments": {},
   "cell_type": "markdown",
   "metadata": {},
   "source": [
    "# 4. Exploratory Data Analysis\n",
    " \n",
    "*Date: July 31, 2023*  \n",
    "*Author: Alicia Larsen*     \n",
    "*Institution: The Research Institute of Sweden (RISE)*   \n",
    "*Contact: alicia.hh.larsen@gmail.com*   \n",
    "\n",
    "This is the 5th notebook of 7, in the series \"RISE Wildfire Prediction Using Machine Learning\"\n",
    "\n",
    "References: This notebook is based on the procedures in the notebook found on this [link](https://github.com/ornldaac/modis_restservice_qc_filter_Python/blob/master/modis_restservice_qc_filter_Python.ipynb). This notebook can also be found in /initial-eda/data-procurement/reference-notebook/download-modis-data-example-notebook.ipynb, on github.com:larsenalicia/RISE-wildfire-prediction.git\n",
    "\n",
    "##### Keywords: LST, LSR, Fire, MODIS, Python\n",
    "\n",
    "## Overview\n",
    "This notebook will explore soma basic statistics of the datasets, show the feature values over time and a heatmap for one chosen date.\n",
    "\n",
    "## Prerequisites: \n",
    "\n",
    "* Python 2 or 3   \n",
    "* Libraries: requests, json, datetime, pandas, numpy, matplotlib\n",
    "---\n",
    "\n",
    "## Set-up\n",
    "### Imports:"
   ]
  },
  {
   "cell_type": "markdown",
   "metadata": {},
   "source": [
    "# 4. Exploratory Data Analysis\n",
    " \n",
    "*Date: July 31, 2023*  \n",
    "*Author: Alicia Larsen*     \n",
    "*Institution: The Research Institute of Sweden (RISE)*   \n",
    "*Contact: alicia.hh.larsen@gmail.com*   \n",
    "\n",
    "This is the firest notebook of X, in the series \"RISE Wildfire Prediction Using Machine Learning\"\n",
    "\n",
    "References: This notebook is based on the procedures in the notebook found on this [link](https://github.com/ornldaac/modis_restservice_qc_filter_Python/blob/master/modis_restservice_qc_filter_Python.ipynb). This notebook can also be found in /initial-eda/data-procurement/reference-notebook/download-modis-data-example-notebook.ipynb, on github.com:larsenalicia/RISE-wildfire-prediction.git\n",
    "\n",
    "##### Keywords: LST, LSR, Fire, MODIS, Python\n",
    "\n",
    "## Overview\n",
    "This notebook will explore the access to 3 MODIS data products: \n",
    "* the Land Surface Temperature/Emissivity (MOD11A2), \n",
    "* Surface Reflectance (MOD09A1), and \n",
    "* Thermal Anomalies/Fire (MOD14A2).\n",
    "\n",
    "## Prerequisites: \n",
    "\n",
    "* Python 2 or 3   \n",
    "* Libraries: requests, json, datetime, pandas, numpy, matplotlib\n",
    "---\n",
    "\n",
    "## Set-up\n",
    "### Imports:"
   ]
  },
  {
   "cell_type": "code",
   "execution_count": null,
   "metadata": {},
   "outputs": [],
   "source": [
    "# Imports\n",
    "import json\n",
    "import datetime\n",
    "import pandas as pd\n",
    "import numpy as np\n",
    "\n",
    "import matplotlib as mpl\n",
    "import matplotlib.pyplot as plt\n",
    "import seaborn as sns\n",
    "sns.set()\n",
    "\n",
    "from globals.global_vars import url, header, coordinate_description, lat, lon, start_year, end_year, sensing_interval, products, bands\n",
    "from procerdures.c_eda import stats, fire_stats"
   ]
  },
  {
   "attachments": {},
   "cell_type": "markdown",
   "metadata": {},
   "source": [
    "### Load required data:"
   ]
  },
  {
   "cell_type": "code",
   "execution_count": null,
   "metadata": {},
   "outputs": [],
   "source": [
    "dataframes: dict = {}\n",
    "\n",
    "# Iterate through the different frequences\n",
    "for frequency in ['least', 'most']:\n",
    "\n",
    "    # Iterate through the different filtering restrictions\n",
    "    for restriction in ['hard', 'loose']:\n",
    "\n",
    "        # Read a CSV in the right directory\n",
    "        df_data = pd.read_csv(f'data/aggregation/raw/alldata_{frequency}_{restriction}_{start_year}-{end_year}_{coordinate_description}.csv')\n",
    "\n",
    "        # Add the dataframe to a dictionary, for access\n",
    "        dataframes[f'{frequency}_{restriction}'] = df_data.rename(columns={'Unnamed: 0': 'date', 'Unnamed: 1': 'pixel'})\n",
    "\n",
    "# Take a look at the keys\n",
    "dataframes.keys()"
   ]
  },
  {
   "cell_type": "markdown",
   "metadata": {},
   "source": [
    "Feel free to run this notebook several times with different dataframes. You can change the <code>dataframes[\\<'key'>]</code>"
   ]
  },
  {
   "cell_type": "code",
   "execution_count": null,
   "metadata": {},
   "outputs": [],
   "source": [
    "# Define the dataframe for this analysis\n",
    "df_data = dataframes['most_loose']\n",
    "df_data.head()"
   ]
  },
  {
   "attachments": {},
   "cell_type": "markdown",
   "metadata": {},
   "source": [
    "### Convert string index to type datetime"
   ]
  },
  {
   "cell_type": "code",
   "execution_count": null,
   "metadata": {},
   "outputs": [],
   "source": [
    "# Check the type of the date-column\n",
    "print(f'{df_data[\"date\"][0]}: {type(df_data[\"date\"][0])}')"
   ]
  },
  {
   "cell_type": "code",
   "execution_count": null,
   "metadata": {},
   "outputs": [],
   "source": [
    "# Change the type of the date-column, and make a multi-index\n",
    "df_data['date'] = pd.to_datetime(df_data['date'], format='%Y-%m-%d', errors='coerce')\n",
    "df_data = df_data.set_index(['date', 'pixel'])"
   ]
  },
  {
   "cell_type": "code",
   "execution_count": null,
   "metadata": {},
   "outputs": [],
   "source": [
    "# Check the type of the date-index\n",
    "print(f'{df_data.index[0][0]}: {type(df_data.index[0][0])}')\n",
    "df_data.head()"
   ]
  },
  {
   "attachments": {},
   "cell_type": "markdown",
   "metadata": {},
   "source": [
    "## Initial Statistics\n",
    "### LST"
   ]
  },
  {
   "cell_type": "code",
   "execution_count": null,
   "metadata": {},
   "outputs": [],
   "source": [
    "# LST statistics (Celsius)\n",
    "stats(df_data, 'celsius')"
   ]
  },
  {
   "attachments": {},
   "cell_type": "markdown",
   "metadata": {},
   "source": [
    "### NDMI"
   ]
  },
  {
   "cell_type": "code",
   "execution_count": null,
   "metadata": {},
   "outputs": [],
   "source": [
    "# NDMI statistics\n",
    "stats(df_data, 'ndmi')\n"
   ]
  },
  {
   "attachments": {},
   "cell_type": "markdown",
   "metadata": {},
   "source": [
    "### EVI"
   ]
  },
  {
   "cell_type": "code",
   "execution_count": null,
   "metadata": {},
   "outputs": [],
   "source": [
    "# NDMI statistics\n",
    "stats(df_data, 'evi')\n"
   ]
  },
  {
   "attachments": {},
   "cell_type": "markdown",
   "metadata": {},
   "source": [
    "### Fire"
   ]
  },
  {
   "cell_type": "code",
   "execution_count": null,
   "metadata": {},
   "outputs": [],
   "source": [
    "# Fire cout\n",
    "fire_stats(df_data, 'fire')"
   ]
  },
  {
   "cell_type": "code",
   "execution_count": null,
   "metadata": {},
   "outputs": [],
   "source": [
    "df_data.head()"
   ]
  },
  {
   "cell_type": "code",
   "execution_count": null,
   "metadata": {},
   "outputs": [],
   "source": [
    "# More statistics regarding the fire dataset\n",
    "df_pixel_fire = df_data[df_data['fire'] > 0].reset_index()['pixel'].to_frame()\n",
    "\n",
    "print(f\"\"\"\n",
    "FIRE PIXEL STATS\n",
    "-------------------------------\n",
    "fire occurance:             {len(df_pixel_fire.index)}\n",
    "unique fire pixels:         {len(df_pixel_fire['pixel'].unique())}\n",
    "middle number of pixels:    {df_data.reset_index()['pixel'].max()/2}\n",
    "pixels below:               {round(len(df_pixel_fire[df_pixel_fire['pixel'] > df_data.reset_index()['pixel'].max()/2] / len(df_pixel_fire.index)), 3)*100}%\n",
    "duplicate pixels:           {len(df_pixel_fire[df_pixel_fire.duplicated()])}\n",
    "\"\"\")"
   ]
  },
  {
   "attachments": {},
   "cell_type": "markdown",
   "metadata": {},
   "source": [
    "## Predictors over time\n",
    "### Preparation of dataframes"
   ]
  },
  {
   "cell_type": "code",
   "execution_count": null,
   "metadata": {},
   "outputs": [],
   "source": [
    "# Separate the dataframes\n",
    "df_temperature_c = df_data['celsius'].to_frame()\n",
    "df_temperature_k = df_data['lst'].to_frame()\n",
    "df_ndmi = df_data['ndmi'].to_frame()\n",
    "df_evi = df_data['evi'].to_frame()\n",
    "df_fire = df_data['fire'].to_frame()\n",
    "df_temperature_c.head()"
   ]
  },
  {
   "cell_type": "code",
   "execution_count": null,
   "metadata": {},
   "outputs": [],
   "source": [
    "# Aggregate the dataframes\n",
    "df_temperature_c_stats = df_temperature_c['celsius'].groupby('date').agg(['mean', 'std', 'count'])\n",
    "df_ndmi_stats = df_ndmi['ndmi'].groupby('date').agg(['mean', 'std', 'count'])\n",
    "df_evi_stats = df_evi['evi'].groupby('date').agg(['mean', 'std', 'count'])\n",
    "\n",
    "df_temperature_c_stats.head()"
   ]
  },
  {
   "cell_type": "code",
   "execution_count": null,
   "metadata": {},
   "outputs": [],
   "source": [
    "# Dataframe for fire\n",
    "df_fire_stats = df_fire['fire'].groupby('date').agg('mean').to_frame()\n",
    "df_fire_stats.head()"
   ]
  },
  {
   "attachments": {},
   "cell_type": "markdown",
   "metadata": {},
   "source": [
    "### Plotting"
   ]
  },
  {
   "cell_type": "code",
   "execution_count": null,
   "metadata": {},
   "outputs": [],
   "source": [
    "# LST\n",
    "plt.rcParams['figure.figsize'] = (15,8)\n",
    "\n",
    "fig, ax1 = plt.subplots()\n",
    "\n",
    "ax1.set_xlabel('Date')\n",
    "ax1.set_ylabel('LST (°C)')\n",
    "ax1.plot(df_temperature_c_stats.index, df_temperature_c_stats['mean'], 'k-')\n",
    "ax1.fill_between(df_temperature_c_stats.index, df_temperature_c_stats['mean']-df_temperature_c_stats['std'], df_temperature_c_stats['mean']+df_temperature_c_stats['std'])\n",
    "ax1.tick_params(axis='y')\n",
    "fig.autofmt_xdate()\n",
    "\n",
    "ax2 = ax1.twinx()\n",
    "ax2.set_ylabel('Valid Pixels')\n",
    "ax2.bar(df_temperature_c_stats.index, df_temperature_c_stats['count'], 10, alpha = 0.3)\n",
    "ax2.tick_params(axis='y')\n",
    "\n",
    "plt.show()"
   ]
  },
  {
   "cell_type": "code",
   "execution_count": null,
   "metadata": {},
   "outputs": [],
   "source": [
    "# NDMI\n",
    "plt.rcParams['figure.figsize'] = (15,8)\n",
    "\n",
    "fig, ax1 = plt.subplots()\n",
    "\n",
    "ax1.set_xlabel('Date')\n",
    "ax1.set_ylabel('NDMI')\n",
    "ax1.plot(df_ndmi_stats.index, df_ndmi_stats['mean'], 'k-')\n",
    "ax1.fill_between(df_ndmi_stats.index, df_ndmi_stats['mean']-df_ndmi_stats['std'], df_ndmi_stats['mean']+df_ndmi_stats['std'])\n",
    "ax1.tick_params(axis='y')\n",
    "fig.autofmt_xdate()\n",
    "\n",
    "ax2 = ax1.twinx()\n",
    "ax2.set_ylabel('Valid Pixels')\n",
    "ax2.bar(df_ndmi_stats.index, df_ndmi_stats['count'], 10, alpha = 0.3)\n",
    "ax2.tick_params(axis='y')\n",
    "\n",
    "plt.show()"
   ]
  },
  {
   "cell_type": "code",
   "execution_count": null,
   "metadata": {},
   "outputs": [],
   "source": [
    "# EVI\n",
    "df_evi_stats1 = df_evi_stats.dropna()\n",
    "plt.rcParams['figure.figsize'] = (15,8)\n",
    "\n",
    "fig, ax1 = plt.subplots()\n",
    "\n",
    "ax1.set_xlabel('Date')\n",
    "ax1.set_ylabel('EVI')\n",
    "ax1.plot(df_evi_stats1.index, df_evi_stats1['mean'], 'k-')\n",
    "ax1.fill_between(df_evi_stats1.index, df_evi_stats1['mean']-df_evi_stats1['std'], df_evi_stats1['mean']+df_evi_stats1['std'])\n",
    "ax1.tick_params(axis='y')\n",
    "fig.autofmt_xdate()\n",
    "\n",
    "ax2 = ax1.twinx()\n",
    "ax2.set_ylabel('Valid Pixels')\n",
    "ax2.bar(df_evi_stats1.index, df_evi_stats1['count'], 10, alpha = 0.3)\n",
    "ax2.tick_params(axis='y')\n",
    "\n",
    "plt.show()"
   ]
  },
  {
   "cell_type": "code",
   "execution_count": null,
   "metadata": {},
   "outputs": [],
   "source": [
    "# Read in normalized data:\n",
    "df_normalized = pd.read_csv(f'data/aggregation/normalized/alldata_most_loose_largest_{start_year}-{end_year}_{coordinate_description}.csv')"
   ]
  },
  {
   "cell_type": "code",
   "execution_count": null,
   "metadata": {},
   "outputs": [],
   "source": [
    "# Check the type of the date-column\n",
    "print(f'{df_normalized[\"date\"][0]}: {type(df_normalized[\"date\"][0])}')"
   ]
  },
  {
   "cell_type": "code",
   "execution_count": null,
   "metadata": {},
   "outputs": [],
   "source": [
    "# Change the type of the date-column, and make a multi-index\n",
    "df_normalized['date'] = pd.to_datetime(df_normalized['date'], format='%Y-%m-%d', errors='coerce')\n",
    "df_normalized = df_normalized.set_index(['date', 'pixel'])"
   ]
  },
  {
   "cell_type": "code",
   "execution_count": null,
   "metadata": {},
   "outputs": [],
   "source": [
    "# Check the type of the date-index\n",
    "print(f'{df_normalized.index[0][0]}: {type(df_normalized.index[0][0])}')\n",
    "df_normalized.head()"
   ]
  },
  {
   "cell_type": "code",
   "execution_count": null,
   "metadata": {},
   "outputs": [],
   "source": [
    "# Re-format the df_normalized dataframe\n",
    "df_normalized = df_normalized.reset_index().groupby('date').agg('mean')[['temperature_k', 'ndmi', 'evi']]\n",
    "df_normalized.head()"
   ]
  },
  {
   "cell_type": "code",
   "execution_count": null,
   "metadata": {},
   "outputs": [],
   "source": [
    "# Combined plot\n",
    "plt.rcParams['figure.figsize'] = (15,8)\n",
    "\n",
    "fig, ax1 = plt.subplots()\n",
    "\n",
    "ax1.set_title('Fire-features over time', size=28, y=1.02)\n",
    "\n",
    "ax1.set_xlabel('Time [date]', size=18, weight='bold')\n",
    "ax1.set_ylabel('z-score', size=18, weight='bold')\n",
    "lst = ax1.plot(df_normalized.index, df_normalized['temperature_k'], linewidth=3)\n",
    "ndmi = ax1.plot(df_normalized.index, df_normalized['ndmi'], linewidth=1)\n",
    "evi = ax1.plot(df_normalized.index, df_normalized['evi'], linewidth=3)\n",
    "\n",
    "ax1.tick_params(axis='y')\n",
    "fig.autofmt_xdate()\n",
    "\n",
    "ax1.legend(['LST', 'NDMI', 'EVI'], fontsize=17)\n",
    "\n",
    "plt.show()"
   ]
  },
  {
   "cell_type": "code",
   "execution_count": null,
   "metadata": {},
   "outputs": [],
   "source": [
    "df_fire_stats['fire'].unique()"
   ]
  },
  {
   "cell_type": "code",
   "execution_count": null,
   "metadata": {},
   "outputs": [],
   "source": [
    "# Fire\n",
    "sns.set()\n",
    "plt.rcParams['figure.figsize'] = (15,8)\n",
    "\n",
    "fig, ax1 = plt.subplots()\n",
    "\n",
    "ax1.set_title('Fire-pixel percentage over time', size=30)\n",
    "ax1.set_xlabel('Time [date]', size=20, weight='bold')\n",
    "ax1.set_ylabel('Fire pixels [%]', size=20, weight='bold')\n",
    "\n",
    "ax1.plot(df_fire_stats.index, df_fire_stats['fire'], linewidth=3)\n",
    "ax1.tick_params(axis='y')\n",
    "fig.autofmt_xdate()\n",
    "\n",
    "plt.show()"
   ]
  },
  {
   "attachments": {},
   "cell_type": "markdown",
   "metadata": {},
   "source": [
    "## Find date of fire"
   ]
  },
  {
   "cell_type": "code",
   "execution_count": null,
   "metadata": {},
   "outputs": [],
   "source": [
    "# All fire-days\n",
    "df_fire_stats[df_fire_stats['fire'] > 0]"
   ]
  },
  {
   "cell_type": "code",
   "execution_count": null,
   "metadata": {},
   "outputs": [],
   "source": [
    "# The fire-date with the most fire\n",
    "df_fire_stats[df_fire_stats['fire'] > 0].idxmax(axis='rows')"
   ]
  },
  {
   "cell_type": "code",
   "execution_count": null,
   "metadata": {},
   "outputs": [],
   "source": [
    "# Manually define the date of interest\n",
    "interest_date = '2018-07-13'\n",
    "interest_datetime = datetime.date(2018, 7, 13)"
   ]
  },
  {
   "attachments": {},
   "cell_type": "markdown",
   "metadata": {},
   "source": [
    "We can see that 2018-07-13 had the largest fire, therefore, we will continue the exploratory analysis on this date."
   ]
  },
  {
   "attachments": {},
   "cell_type": "markdown",
   "metadata": {},
   "source": [
    "## Heatmap\n",
    "### LST"
   ]
  },
  {
   "cell_type": "code",
   "execution_count": null,
   "metadata": {},
   "outputs": [],
   "source": [
    "# Define the relevant dataframe\n",
    "df_lst_date = df_temperature_k.loc[interest_date, 'lst'].to_frame()\n",
    "df_lst_date"
   ]
  },
  {
   "cell_type": "code",
   "execution_count": null,
   "metadata": {},
   "outputs": [],
   "source": [
    "dimension = 201\n",
    "\n",
    "# Create dataframe in matrix format\n",
    "df_lst_matrix = pd.DataFrame()\n",
    "# columns=[col for col in range(0, dimension)]\n",
    "\n",
    "# For every pixel\n",
    "for pix in df_lst_date.index:\n",
    "    row = int(np.floor(pix / dimension))\n",
    "    col = pix % dimension\n",
    "    df_lst_matrix = df_lst_matrix\n",
    "    df_lst_matrix.loc[row, col] = df_lst_date.loc[pix, 'lst']"
   ]
  },
  {
   "cell_type": "code",
   "execution_count": null,
   "metadata": {},
   "outputs": [],
   "source": [
    "# Heatmap over LST\n",
    "fig, ax = plt.subplots(figsize=(15,12))\n",
    "sns.heatmap(data=df_lst_matrix, cmap=\"inferno\", ax=ax)\n",
    "\n",
    "ax.set_title('Satellite imagery of north of Sweden (201x201 km)', size=22, y=1.05)\n",
    "ax.xaxis.tick_top()\n",
    "labels = [i*4 for i in range(0,51)]\n",
    "ax.set_xticklabels(labels, minor=False, rotation=90)\n",
    "\n",
    "ax.set_xlabel('pixel x-coordinate [1km wide]', size=20, weight='bold')\n",
    "ax.set_ylabel('pixel y-coordinate [1km wide]', size=20, weight='bold');"
   ]
  },
  {
   "attachments": {},
   "cell_type": "markdown",
   "metadata": {},
   "source": [
    "### NDMI"
   ]
  },
  {
   "cell_type": "code",
   "execution_count": null,
   "metadata": {},
   "outputs": [],
   "source": [
    "# Define the relevand dataframe\n",
    "df_ndmi_date = df_ndmi.loc[interest_date, 'ndmi'].to_frame()\n",
    "df_ndmi_date"
   ]
  },
  {
   "cell_type": "code",
   "execution_count": null,
   "metadata": {},
   "outputs": [],
   "source": [
    "dimension = 201\n",
    "\n",
    "# Create dataframe in matrix format\n",
    "df_ndmi_matrix = pd.DataFrame()\n",
    "\n",
    "# For every pixel\n",
    "for pix in df_ndmi_date.index:\n",
    "    row = int(np.floor(pix / dimension))\n",
    "    col = pix % dimension\n",
    "    df_ndmi_matrix = df_ndmi_matrix\n",
    "    df_ndmi_matrix.loc[row, col] = df_ndmi_date.loc[pix, 'ndmi']"
   ]
  },
  {
   "cell_type": "code",
   "execution_count": null,
   "metadata": {},
   "outputs": [],
   "source": [
    "# Heatmap of LSR\n",
    "fig, ax = plt.subplots(figsize=(15,12))\n",
    "sns.heatmap(data=df_ndmi_matrix, cmap=\"inferno\", ax=ax);"
   ]
  },
  {
   "attachments": {},
   "cell_type": "markdown",
   "metadata": {},
   "source": [
    "### EVI"
   ]
  },
  {
   "cell_type": "code",
   "execution_count": null,
   "metadata": {},
   "outputs": [],
   "source": [
    "# Define relevant dataframe\n",
    "df_evi_date = df_evi.loc[interest_date, 'evi'].to_frame()\n",
    "df_evi_date.head(3)"
   ]
  },
  {
   "cell_type": "code",
   "execution_count": null,
   "metadata": {},
   "outputs": [],
   "source": [
    "dimension = 201\n",
    "\n",
    "# Create dataframe in matrix format\n",
    "df_evi_matrix = pd.DataFrame()\n",
    "\n",
    "# For every pixel\n",
    "for pix in df_evi_date.index:\n",
    "    row = int(np.floor(pix / dimension))\n",
    "    col = pix % dimension\n",
    "\n",
    "    df_evi_matrix = df_evi_matrix\n",
    "    df_evi_matrix.loc[row, col] = df_evi_date.loc[pix, 'evi']"
   ]
  },
  {
   "cell_type": "code",
   "execution_count": null,
   "metadata": {},
   "outputs": [],
   "source": [
    "# Heatmap of EVI\n",
    "fig, ax = plt.subplots(figsize=(15,12))\n",
    "sns.heatmap(data=df_evi_matrix, cmap=\"inferno\", ax=ax);"
   ]
  },
  {
   "attachments": {},
   "cell_type": "markdown",
   "metadata": {},
   "source": [
    "### Fire"
   ]
  },
  {
   "cell_type": "code",
   "execution_count": null,
   "metadata": {},
   "outputs": [],
   "source": [
    "# Define relevant dataframe\n",
    "df_fire_date = df_fire.loc[interest_date, 'fire'].to_frame()\n",
    "df_fire_date.head(3)"
   ]
  },
  {
   "cell_type": "code",
   "execution_count": null,
   "metadata": {},
   "outputs": [],
   "source": [
    "# Check expected number of nan-values\n",
    "df_fire.loc[interest_date,'fire'].isna().sum()"
   ]
  },
  {
   "cell_type": "code",
   "execution_count": null,
   "metadata": {},
   "outputs": [],
   "source": [
    "dimension = 201\n",
    "\n",
    "# Create dataframe in matrix format\n",
    "df_fire_matrix = pd.DataFrame()\n",
    "\n",
    "# For every pixel\n",
    "for pix in df_fire_date.index:\n",
    "    row = int(np.floor(pix / dimension))\n",
    "    col = pix % dimension\n",
    "\n",
    "    df_fire_matrix = df_fire_matrix\n",
    "    df_fire_matrix.loc[row, col] = df_fire_date.loc[pix, 'fire']"
   ]
  },
  {
   "cell_type": "code",
   "execution_count": null,
   "metadata": {},
   "outputs": [],
   "source": [
    "# Heatmap of fire\n",
    "from matplotlib.patches import Patch\n",
    "\n",
    "fig, ax = plt.subplots(figsize=(15,12))\n",
    "sns.heatmap(data=df_fire_matrix, cmap=mpl.colors.ListedColormap(['#6fa8dcff', '#a64d79ff']), ax=ax, cbar=False)\n",
    "\n",
    "ax.set_title('A spatial representation of fire pixels (2018-07-13)', size=24, y=1.05)\n",
    "ax.xaxis.tick_top()\n",
    "labels = [i*3 for i in range(0,67)]\n",
    "ax.set_xticklabels(labels, minor=False, rotation=90)\n",
    "legend_handles = [Patch(color=\"#6fa8dcff\", label='Not Fire-pixel'),         # Blue\n",
    "                    Patch(color=\"#a64d79ff\", label='Fire-pixel'),\n",
    "                    Patch(color='white', label='No Data')]           # Purple\n",
    "ax.legend(handles=legend_handles, ncol=1, bbox_to_anchor=[1, 0], loc='lower right', fontsize=14, handlelength=.8)\n",
    "\n",
    "ax.set_xlabel('pixel x-coordinate [1km wide]', size=20, weight='bold')\n",
    "ax.set_ylabel('pixel y-coordinate [1km wide]', size=20, weight='bold');\n"
   ]
  },
  {
   "attachments": {},
   "cell_type": "markdown",
   "metadata": {},
   "source": [
    "## Wrap-up\n",
    "Now you should have some basic understanding of the datasets.\n",
    "\n",
    "Have a nice day!\n",
    "\n",
    "/ Alicia"
   ]
  }
 ],
 "metadata": {
  "kernelspec": {
   "display_name": "rise-wildfires",
   "language": "python",
   "name": "python3"
  },
  "language_info": {
   "codemirror_mode": {
    "name": "ipython",
    "version": 3
   },
   "file_extension": ".py",
   "mimetype": "text/x-python",
   "name": "python",
   "nbconvert_exporter": "python",
   "pygments_lexer": "ipython3",
   "version": "3.10.12"
  },
  "orig_nbformat": 4
 },
 "nbformat": 4,
 "nbformat_minor": 2
}
