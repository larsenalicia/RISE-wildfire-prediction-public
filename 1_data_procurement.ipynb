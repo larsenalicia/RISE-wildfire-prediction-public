{
 "cells": [
  {
   "attachments": {},
   "cell_type": "markdown",
   "metadata": {},
   "source": [
    "# 1. Data procurement\n",
    " \n",
    "*Date: July 31, 2023*  \n",
    "*Author: Alicia Larsen*     \n",
    "*Institution: The Research Institute of Sweden (RISE)*   \n",
    "*Contact: alicia.hh.larsen@gmail.com*   \n",
    "\n",
    "This is the 2nd notebook of 7, in the series \"RISE Wildfire Prediction Using Machine Learning\"\n",
    "\n",
    "References: This notebook is based on the procedures in the notebook found on this [link](https://github.com/ornldaac/modis_restservice_qc_filter_Python/blob/master/modis_restservice_qc_filter_Python.ipynb). This notebook can also be found in /initial-eda/data-procurement/reference-notebook/download-modis-data-example-notebook.ipynb, on github.com:larsenalicia/RISE-wildfire-prediction.git\n",
    "\n",
    "##### Keywords: LST, LSR, Fire, MODIS, Python\n",
    "\n",
    "## Overview\n",
    "This notebook will explore the access to 3 MODIS data products: \n",
    "* the Land Surface Temperature/Emissivity (MOD11A2), \n",
    "* Surface Reflectance (MOD09A1), and \n",
    "* Thermal Anomalies/Fire (MOD14A2).\n",
    "\n",
    "## Prerequisites: \n",
    "\n",
    "* Python 2 or 3   \n",
    "* Libraries: requests, json, datetime, pandas, numpy, matplotlib\n",
    "---\n",
    "\n",
    "## Imports:"
   ]
  },
  {
   "cell_type": "code",
   "execution_count": null,
   "metadata": {},
   "outputs": [],
   "source": [
    "# Imports\n",
    "import requests\n",
    "import json\n",
    "import datetime\n",
    "import pandas as pd\n",
    "import pickle"
   ]
  },
  {
   "attachments": {},
   "cell_type": "markdown",
   "metadata": {},
   "source": [
    "## Global Variables:"
   ]
  },
  {
   "cell_type": "code",
   "execution_count": null,
   "metadata": {},
   "outputs": [],
   "source": [
    "# Import the global variables from globals.global_vars, as well as the required functions\n",
    "from globals.global_vars import url, header, coordinate_description, lat, lon, start_year, end_year, products, bands, time_intervals, above_below_left_right\n",
    "from procerdures.a_procurement import print_globals_of_interest, get_dates, print_parameters_of_interest, data_retrival\n",
    "\n",
    "# Variables in use \n",
    "print_globals_of_interest()"
   ]
  },
  {
   "attachments": {},
   "cell_type": "markdown",
   "metadata": {},
   "source": [
    "## Validating connection\n",
    "Some products are not available. Therefore, check first if the products of interest are."
   ]
  },
  {
   "cell_type": "code",
   "execution_count": null,
   "metadata": {},
   "outputs": [],
   "source": [
    "# Check that every product is valid.\n",
    "for product in products.values():\n",
    "    response = requests.get(f'https://modis.ornl.gov/rst/api/v1/{product}/dates?latitude={lat}&longitude={lon}', headers=header)\n",
    "    if str(response) == '<Response [200]>':\n",
    "        print(f'{product} ok')\n",
    "    else: \n",
    "        print(f'{product} not valid')"
   ]
  },
  {
   "attachments": {},
   "cell_type": "markdown",
   "metadata": {},
   "source": [
    "## Getting MODIS Dates \n",
    "For the scope of this predefined analysis, the time period 2018-2023 is chosen.    \n",
    "\n",
    "Since all the products are located on the same satellite, it is only necesary to check the time period for one, and conclude that it is the same for all. The products are generated in 8-day composites for a total of 46 composite periods per calendar year.\n",
    "\n",
    "The Modis date-system works as follows: 'A/year/day-of-year', meaning that the word-length is 8:"
   ]
  },
  {
   "attachments": {},
   "cell_type": "markdown",
   "metadata": {},
   "source": [
    "**MOD11A2** is generated in 8-day composites for a total of 46 composite periods per calendar year. The **MOD13Q1** has a 16-interval, and is hence the least frequently sampled product. This has a total of 23 composite periods per calendar year."
   ]
  },
  {
   "cell_type": "code",
   "execution_count": null,
   "metadata": {},
   "outputs": [],
   "source": [
    "# Define the number of datapoints per year, for 8 vs. 16 interval.\n",
    "data_points_in_year_8 = 46\n",
    "data_points_in_year_16 = 23\n",
    "\n",
    "# Define the different time intervals\n",
    "product_eg_8 = products['lst']\n",
    "product_eg_16 = products['evi']\n",
    "\n",
    "# Employ the get_dates() function to retrieve the dates of the time interval of interest.\n",
    "dates_mod_8, dates_real_8 = get_dates(data_points_in_year_8, product_eg_8)\n",
    "dates_mod_16, dates_real_16 = get_dates(data_points_in_year_16, product_eg_16)\n",
    "\n",
    "# Save the lists to a file\n",
    "with open('globals/most_frequent.ob', 'wb') as fp:\n",
    "    pickle.dump(dates_real_8, fp)\n",
    "with open('globals/least_frequent.ob', 'wb') as fp:\n",
    "    pickle.dump(dates_real_16, fp)"
   ]
  },
  {
   "attachments": {},
   "cell_type": "markdown",
   "metadata": {},
   "source": [
    "## Request data"
   ]
  },
  {
   "cell_type": "code",
   "execution_count": null,
   "metadata": {},
   "outputs": [],
   "source": [
    "# Input variables\n",
    "print_parameters_of_interest()"
   ]
  },
  {
   "cell_type": "code",
   "execution_count": null,
   "metadata": {},
   "outputs": [],
   "source": [
    "# Iterate through the dictionary of products\n",
    "for key in products.keys():\n",
    "    \n",
    "    # Get the product code name\n",
    "    product = products[key]\n",
    "\n",
    "    # Iterate through the list of bands per product\n",
    "    for band in bands[product]:\n",
    "        \n",
    "        # Get the data and write it to a CSV. Choose between the date-interval\n",
    "        if time_intervals[product] == 8:\n",
    "            data_retrival(key, band, dates_mod_8, dates_real_8)\n",
    "        elif time_intervals[product] == 16:\n",
    "            data_retrival(key, band, dates_mod_16, dates_real_16)\n",
    "        else:\n",
    "            raise KeyError('The dates for this time interval has not been calculated')"
   ]
  },
  {
   "attachments": {},
   "cell_type": "markdown",
   "metadata": {},
   "source": [
    "## Wrap-up\n",
    "Now you should have all datasets to continue the analysis.\n",
    "\n",
    "Have a nice day!\n",
    "\n",
    "/ Alicia"
   ]
  }
 ],
 "metadata": {
  "kernelspec": {
   "display_name": "rise-wildfires",
   "language": "python",
   "name": "python3"
  },
  "language_info": {
   "codemirror_mode": {
    "name": "ipython",
    "version": 3
   },
   "file_extension": ".py",
   "mimetype": "text/x-python",
   "name": "python",
   "nbconvert_exporter": "python",
   "pygments_lexer": "ipython3",
   "version": "3.10.12"
  },
  "orig_nbformat": 4
 },
 "nbformat": 4,
 "nbformat_minor": 2
}
