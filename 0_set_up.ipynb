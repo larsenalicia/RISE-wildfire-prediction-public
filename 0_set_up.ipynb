{
 "cells": [
  {
   "cell_type": "markdown",
   "metadata": {},
   "source": [
    "# 0. Set up\n",
    " \n",
    "*Date: July 31, 2023*  \n",
    "*Author: Alicia Larsen*     \n",
    "*Institution: The Research Institute of Sweden (RISE)*   \n",
    "*Contact: alicia.hh.larsen@gmail.com*   \n",
    "\n",
    "This is the 1st notebook of 7, in the series \"RISE Wildfire Prediction Using Machine Learning\"\n",
    "\n",
    "##### Keywords: LST, LSR, Fire, MODIS, Python\n",
    "\n",
    "## Overview\n",
    "This notebook will set up the necessary folders for the project.\n",
    "\n",
    "## Prerequisites: \n",
    "\n",
    "* Python 2 or 3   \n",
    "---\n",
    "\n",
    "## Set-up\n",
    "### Imports:"
   ]
  },
  {
   "cell_type": "code",
   "execution_count": 1,
   "metadata": {},
   "outputs": [],
   "source": [
    "# Imports\n",
    "import os"
   ]
  },
  {
   "cell_type": "code",
   "execution_count": 23,
   "metadata": {},
   "outputs": [],
   "source": [
    "# Define the different directories\n",
    "directories: dict = {'data': [\n",
    "                        {'procurement': ['evi', 'fire', 'lsr', 'lst']},\n",
    "                        {'filtered': ['hard', 'loose']}, \n",
    "                        {'aggregation': ['normalized', 'raw']}\n",
    "                        ]}\n",
    "# Parent Directory path\n",
    "parent_dir = f\"{os.getcwd()}\""
   ]
  },
  {
   "cell_type": "code",
   "execution_count": 25,
   "metadata": {},
   "outputs": [],
   "source": [
    "# Iterate through the keys in the first level of the folders (data)\n",
    "for key_L0 in directories.keys():\n",
    "\n",
    "    # Define the value of that key (list of dictionaries constituting the next layer)\n",
    "    lst_level1 = directories[key_L0]\n",
    "\n",
    "    # Iterate through the dictionaries and their keys of the sub-layer 1, and define their values (list of next folder sub-layer)\n",
    "    for dict_L1 in lst_level1:\n",
    "        for key_L1 in dict_L1.keys():\n",
    "            lst_level2 = dict_L1[key_L1]\n",
    "        \n",
    "            # Iterate through the leaf-directories in the list\n",
    "            for key_L2 in lst_level2:\n",
    "\n",
    "                # Define the directory\n",
    "                directory = '/'.join([key_L0, key_L1, key_L2])\n",
    "                path = os.path.join(parent_dir, directory)\n",
    "  \n",
    "                # Create the directories\n",
    "                if not os.path.exists(path):\n",
    "                    os.makedirs(path)"
   ]
  },
  {
   "cell_type": "markdown",
   "metadata": {},
   "source": [
    "## Wrap-up\n",
    "Now you should have the folds set-up right to continue.\n",
    "\n",
    "Have a nice day!\n",
    "\n",
    "/ Alicia"
   ]
  }
 ],
 "metadata": {
  "kernelspec": {
   "display_name": "rise-wildfires",
   "language": "python",
   "name": "python3"
  },
  "language_info": {
   "codemirror_mode": {
    "name": "ipython",
    "version": 3
   },
   "file_extension": ".py",
   "mimetype": "text/x-python",
   "name": "python",
   "nbconvert_exporter": "python",
   "pygments_lexer": "ipython3",
   "version": "3.10.12"
  },
  "orig_nbformat": 4
 },
 "nbformat": 4,
 "nbformat_minor": 2
}
